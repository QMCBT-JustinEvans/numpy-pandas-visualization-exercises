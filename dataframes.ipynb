{
 "cells": [
  {
   "cell_type": "markdown",
   "id": "ed90af45",
   "metadata": {},
   "source": [
    "### Dataframes Exercises\n",
    "\n",
    "Do your work for this exercise in a python script or a jupyter notebook with the name dataframes.py or dataframes.ipynb.\n",
    "\n",
    "For several of the following exercises, you'll need to load several datasets using the pydataset library. (If you get an error when trying to run the import below, use pip to install the pydataset package.)\n",
    "\n",
    "```python\n",
    "from pydataset import data\n",
    "```"
   ]
  },
  {
   "cell_type": "code",
   "execution_count": 5,
   "id": "ab9c15a5",
   "metadata": {},
   "outputs": [],
   "source": [
    "import pandas as pd\n",
    "import numpy as nb\n",
    "from pydataset import data"
   ]
  },
  {
   "cell_type": "markdown",
   "id": "b063c86f",
   "metadata": {},
   "source": [
    "When the instructions say to load a dataset, you can pass the name of the dataset as a string to the data function to load the dataset. You can also view the documentation for the data set by passing the show_doc keyword argument.\n",
    "\n",
    "```python\n",
    "# data('mpg', show_doc=True) # view the documentation for the dataset\n",
    "mpg = data('mpg') # load the dataset and store it in a variable\n",
    "```\n",
    "\n",
    "All the datasets loaded from the pydataset library will be pandas dataframes."
   ]
  },
  {
   "cell_type": "markdown",
   "id": "00ebc2c1",
   "metadata": {},
   "source": [
    "1. Copy the code from the lesson to create a dataframe full of student grades."
   ]
  },
  {
   "cell_type": "code",
   "execution_count": 8,
   "id": "9db4e2cc",
   "metadata": {},
   "outputs": [
    {
     "data": {
      "text/html": [
       "<div>\n",
       "<style scoped>\n",
       "    .dataframe tbody tr th:only-of-type {\n",
       "        vertical-align: middle;\n",
       "    }\n",
       "\n",
       "    .dataframe tbody tr th {\n",
       "        vertical-align: top;\n",
       "    }\n",
       "\n",
       "    .dataframe thead th {\n",
       "        text-align: right;\n",
       "    }\n",
       "</style>\n",
       "<table border=\"1\" class=\"dataframe\">\n",
       "  <thead>\n",
       "    <tr style=\"text-align: right;\">\n",
       "      <th></th>\n",
       "      <th>dataset_id</th>\n",
       "      <th>title</th>\n",
       "    </tr>\n",
       "  </thead>\n",
       "  <tbody>\n",
       "    <tr>\n",
       "      <th>0</th>\n",
       "      <td>AirPassengers</td>\n",
       "      <td>Monthly Airline Passenger Numbers 1949-1960</td>\n",
       "    </tr>\n",
       "    <tr>\n",
       "      <th>1</th>\n",
       "      <td>BJsales</td>\n",
       "      <td>Sales Data with Leading Indicator</td>\n",
       "    </tr>\n",
       "    <tr>\n",
       "      <th>2</th>\n",
       "      <td>BOD</td>\n",
       "      <td>Biochemical Oxygen Demand</td>\n",
       "    </tr>\n",
       "    <tr>\n",
       "      <th>3</th>\n",
       "      <td>Formaldehyde</td>\n",
       "      <td>Determination of Formaldehyde</td>\n",
       "    </tr>\n",
       "    <tr>\n",
       "      <th>4</th>\n",
       "      <td>HairEyeColor</td>\n",
       "      <td>Hair and Eye Color of Statistics Students</td>\n",
       "    </tr>\n",
       "    <tr>\n",
       "      <th>...</th>\n",
       "      <td>...</td>\n",
       "      <td>...</td>\n",
       "    </tr>\n",
       "    <tr>\n",
       "      <th>752</th>\n",
       "      <td>VerbAgg</td>\n",
       "      <td>Verbal Aggression item responses</td>\n",
       "    </tr>\n",
       "    <tr>\n",
       "      <th>753</th>\n",
       "      <td>cake</td>\n",
       "      <td>Breakage Angle of Chocolate Cakes</td>\n",
       "    </tr>\n",
       "    <tr>\n",
       "      <th>754</th>\n",
       "      <td>cbpp</td>\n",
       "      <td>Contagious bovine pleuropneumonia</td>\n",
       "    </tr>\n",
       "    <tr>\n",
       "      <th>755</th>\n",
       "      <td>grouseticks</td>\n",
       "      <td>Data on red grouse ticks from Elston et al. 2001</td>\n",
       "    </tr>\n",
       "    <tr>\n",
       "      <th>756</th>\n",
       "      <td>sleepstudy</td>\n",
       "      <td>Reaction times in a sleep deprivation study</td>\n",
       "    </tr>\n",
       "  </tbody>\n",
       "</table>\n",
       "<p>757 rows × 2 columns</p>\n",
       "</div>"
      ],
      "text/plain": [
       "        dataset_id                                             title\n",
       "0    AirPassengers       Monthly Airline Passenger Numbers 1949-1960\n",
       "1          BJsales                 Sales Data with Leading Indicator\n",
       "2              BOD                         Biochemical Oxygen Demand\n",
       "3     Formaldehyde                     Determination of Formaldehyde\n",
       "4     HairEyeColor         Hair and Eye Color of Statistics Students\n",
       "..             ...                                               ...\n",
       "752        VerbAgg                  Verbal Aggression item responses\n",
       "753           cake                 Breakage Angle of Chocolate Cakes\n",
       "754           cbpp                 Contagious bovine pleuropneumonia\n",
       "755    grouseticks  Data on red grouse ticks from Elston et al. 2001\n",
       "756     sleepstudy       Reaction times in a sleep deprivation study\n",
       "\n",
       "[757 rows x 2 columns]"
      ]
     },
     "execution_count": 8,
     "metadata": {},
     "output_type": "execute_result"
    }
   ],
   "source": [
    "data(item=None, show_doc=True)"
   ]
  },
  {
   "cell_type": "markdown",
   "id": "3a45c454",
   "metadata": {},
   "source": [
    "a. Create a column named passing_english that indicates whether each student has a passing grade in english."
   ]
  },
  {
   "cell_type": "code",
   "execution_count": null,
   "id": "b3ab87a6",
   "metadata": {},
   "outputs": [],
   "source": []
  },
  {
   "cell_type": "markdown",
   "id": "d2812872",
   "metadata": {},
   "source": [
    "b. Sort the english grades by the passing_english column. How are duplicates handled?"
   ]
  },
  {
   "cell_type": "code",
   "execution_count": null,
   "id": "c3a9a75d",
   "metadata": {},
   "outputs": [],
   "source": []
  },
  {
   "cell_type": "markdown",
   "id": "57a4af9a",
   "metadata": {},
   "source": [
    "c. Sort the english grades first by passing_english and then by student name. All the students that are failing english should be first, and within the students that are failing english they should be ordered alphabetically. The same should be true for the students passing english. (Hint: you can pass a list to the .sort_values method)"
   ]
  },
  {
   "cell_type": "code",
   "execution_count": null,
   "id": "5c39e480",
   "metadata": {},
   "outputs": [],
   "source": []
  },
  {
   "cell_type": "markdown",
   "id": "1ba272b6",
   "metadata": {},
   "source": [
    "d. Sort the english grades first by passing_english, and then by the actual english grade, similar to how we did in the last step."
   ]
  },
  {
   "cell_type": "code",
   "execution_count": null,
   "id": "cc21c40c",
   "metadata": {},
   "outputs": [],
   "source": []
  },
  {
   "cell_type": "markdown",
   "id": "aed68c7e",
   "metadata": {},
   "source": [
    "e. Calculate each students overall grade and add it as a column on the dataframe. The overall grade is the average of the math, english, and reading grades."
   ]
  },
  {
   "cell_type": "code",
   "execution_count": null,
   "id": "29922b70",
   "metadata": {},
   "outputs": [],
   "source": []
  },
  {
   "cell_type": "markdown",
   "id": "a07e3c85",
   "metadata": {},
   "source": [
    "2. Load the mpg dataset. Read the documentation for the dataset and use it for the following questions:"
   ]
  },
  {
   "cell_type": "code",
   "execution_count": 3,
   "id": "95f6a3c8",
   "metadata": {},
   "outputs": [
    {
     "name": "stdout",
     "output_type": "stream",
     "text": [
      "mpg\n",
      "\n",
      "PyDataset Documentation (adopted from R Documentation. The displayed examples are in R)\n",
      "\n",
      "## Fuel economy data from 1999 and 2008 for 38 popular models of car\n",
      "\n",
      "### Description\n",
      "\n",
      "This dataset contains a subset of the fuel economy data that the EPA makes\n",
      "available on http://fueleconomy.gov. It contains only models which had a new\n",
      "release every year between 1999 and 2008 - this was used as a proxy for the\n",
      "popularity of the car.\n",
      "\n",
      "### Usage\n",
      "\n",
      "    data(mpg)\n",
      "\n",
      "### Format\n",
      "\n",
      "A data frame with 234 rows and 11 variables\n",
      "\n",
      "### Details\n",
      "\n",
      "  * manufacturer. \n",
      "\n",
      "  * model. \n",
      "\n",
      "  * displ. engine displacement, in litres \n",
      "\n",
      "  * year. \n",
      "\n",
      "  * cyl. number of cylinders \n",
      "\n",
      "  * trans. type of transmission \n",
      "\n",
      "  * drv. f = front-wheel drive, r = rear wheel drive, 4 = 4wd \n",
      "\n",
      "  * cty. city miles per gallon \n",
      "\n",
      "  * hwy. highway miles per gallon \n",
      "\n",
      "  * fl. \n",
      "\n",
      "  * class. \n",
      "\n",
      "\n"
     ]
    }
   ],
   "source": [
    "data('mpg', show_doc=True) # view the documentation for the dataset\n",
    "mpg = data('mpg') # load the dataset and store it in a variable"
   ]
  },
  {
   "cell_type": "markdown",
   "id": "ea0b6b92",
   "metadata": {},
   "source": [
    "* How many rows and columns are there?"
   ]
  },
  {
   "cell_type": "code",
   "execution_count": null,
   "id": "f653c8fe",
   "metadata": {},
   "outputs": [],
   "source": []
  },
  {
   "cell_type": "markdown",
   "id": "e76f482e",
   "metadata": {},
   "source": [
    "* What are the data types of each column?"
   ]
  },
  {
   "cell_type": "code",
   "execution_count": null,
   "id": "e2bb8027",
   "metadata": {},
   "outputs": [],
   "source": []
  },
  {
   "cell_type": "markdown",
   "id": "0a6546ed",
   "metadata": {},
   "source": [
    "* Summarize the dataframe with .info and .describe"
   ]
  },
  {
   "cell_type": "code",
   "execution_count": null,
   "id": "a4380466",
   "metadata": {},
   "outputs": [],
   "source": []
  },
  {
   "cell_type": "markdown",
   "id": "3b5f9bae",
   "metadata": {},
   "source": [
    "* Rename the cty column to city."
   ]
  },
  {
   "cell_type": "code",
   "execution_count": null,
   "id": "6028a5f3",
   "metadata": {},
   "outputs": [],
   "source": []
  },
  {
   "cell_type": "markdown",
   "id": "3563115c",
   "metadata": {},
   "source": [
    "* Rename the hwy column to highway."
   ]
  },
  {
   "cell_type": "code",
   "execution_count": null,
   "id": "cfda2477",
   "metadata": {},
   "outputs": [],
   "source": []
  },
  {
   "cell_type": "markdown",
   "id": "eeffd3bc",
   "metadata": {},
   "source": [
    "* Do any cars have better city mileage than highway mileage?"
   ]
  },
  {
   "cell_type": "code",
   "execution_count": null,
   "id": "339759d7",
   "metadata": {},
   "outputs": [],
   "source": []
  },
  {
   "cell_type": "markdown",
   "id": "39edc6a8",
   "metadata": {},
   "source": [
    "* Create a column named mileage_difference this column should contain the difference between highway and city mileage for each car."
   ]
  },
  {
   "cell_type": "code",
   "execution_count": null,
   "id": "14bc2df9",
   "metadata": {},
   "outputs": [],
   "source": []
  },
  {
   "cell_type": "markdown",
   "id": "2758a928",
   "metadata": {},
   "source": [
    "* Which car (or cars) has the highest mileage difference?"
   ]
  },
  {
   "cell_type": "code",
   "execution_count": null,
   "id": "dfe68282",
   "metadata": {},
   "outputs": [],
   "source": []
  },
  {
   "cell_type": "markdown",
   "id": "3d4a9136",
   "metadata": {},
   "source": [
    "* Which compact class car has the lowest highway mileage? The best?"
   ]
  },
  {
   "cell_type": "code",
   "execution_count": null,
   "id": "8bd698bc",
   "metadata": {},
   "outputs": [],
   "source": []
  },
  {
   "cell_type": "markdown",
   "id": "fc33019d",
   "metadata": {},
   "source": [
    "* Create a column named average_mileage that is the mean of the city and highway mileage."
   ]
  },
  {
   "cell_type": "code",
   "execution_count": null,
   "id": "a0cd061d",
   "metadata": {},
   "outputs": [],
   "source": []
  },
  {
   "cell_type": "markdown",
   "id": "2b4e4459",
   "metadata": {},
   "source": [
    "* Which dodge car has the best average mileage? The worst?"
   ]
  },
  {
   "cell_type": "code",
   "execution_count": null,
   "id": "d9d3090a",
   "metadata": {},
   "outputs": [],
   "source": []
  },
  {
   "cell_type": "markdown",
   "id": "6a8c4682",
   "metadata": {},
   "source": [
    "3. Load the Mammals dataset. Read the documentation for it, and use the data to answer these questions:"
   ]
  },
  {
   "cell_type": "code",
   "execution_count": 4,
   "id": "c74b16f4",
   "metadata": {},
   "outputs": [
    {
     "name": "stdout",
     "output_type": "stream",
     "text": [
      "Mammals\n",
      "\n",
      "PyDataset Documentation (adopted from R Documentation. The displayed examples are in R)\n",
      "\n",
      "## Garland(1983) Data on Running Speed of Mammals\n",
      "\n",
      "### Description\n",
      "\n",
      "Observations on the maximal running speed of mammal species and their body\n",
      "mass.\n",
      "\n",
      "### Usage\n",
      "\n",
      "    data(Mammals)\n",
      "\n",
      "### Format\n",
      "\n",
      "A data frame with 107 observations on the following 4 variables.\n",
      "\n",
      "weight\n",
      "\n",
      "Body mass in Kg for \"typical adult sizes\"\n",
      "\n",
      "speed\n",
      "\n",
      "Maximal running speed (fastest sprint velocity on record)\n",
      "\n",
      "hoppers\n",
      "\n",
      "logical variable indicating animals that ambulate by hopping, e.g. kangaroos\n",
      "\n",
      "specials\n",
      "\n",
      "logical variable indicating special animals with \"lifestyles in which speed\n",
      "does not figure as an important factor\": Hippopotamus, raccoon (Procyon),\n",
      "badger (Meles), coati (Nasua), skunk (Mephitis), man (Homo), porcupine\n",
      "(Erithizon), oppossum (didelphis), and sloth (Bradypus)\n",
      "\n",
      "### Details\n",
      "\n",
      "Used by Chappell (1989) and Koenker, Ng and Portnoy (1994) to illustrate the\n",
      "fitting of piecewise linear curves.\n",
      "\n",
      "### Source\n",
      "\n",
      "Garland, T. (1983) The relation between maximal running speed and body mass in\n",
      "terrestrial mammals, _J. Zoology_, 199, 1557-1570.\n",
      "\n",
      "### References\n",
      "\n",
      "Koenker, R., P. Ng and S. Portnoy, (1994) Quantile Smoothing Splines”\n",
      "_Biometrika_, 81, 673-680.\n",
      "\n",
      "Chappell, R. (1989) Fitting Bent Lines to Data, with Applications ot\n",
      "Allometry, _J. Theo. Biology_, 138, 235-256.\n",
      "\n",
      "### See Also\n",
      "\n",
      "`rqss`\n",
      "\n",
      "### Examples\n",
      "\n",
      "    data(Mammals)\n",
      "    attach(Mammals)\n",
      "    x <- log(weight)\n",
      "    y <- log(speed)\n",
      "    plot(x,y, xlab=\"Weight in log(Kg)\", ylab=\"Speed in log(Km/hour)\",type=\"n\")\n",
      "    points(x[hoppers],y[hoppers],pch = \"h\", col=\"red\")\n",
      "    points(x[specials],y[specials],pch = \"s\", col=\"blue\")\n",
      "    others <- (!hoppers & !specials)\n",
      "    points(x[others],y[others], col=\"black\",cex = .75)\n",
      "    fit <- rqss(y ~ qss(x, lambda = 1),tau = .9)\n",
      "    plot(fit)\n",
      "\n",
      "\n"
     ]
    }
   ],
   "source": [
    "data('Mammals', show_doc=True) # view the documentation for the dataset\n",
    "mammals = data('Mammals') # load the dataset and store it in a variable"
   ]
  },
  {
   "cell_type": "markdown",
   "id": "007cfad3",
   "metadata": {},
   "source": [
    "* How many rows and columns are there?"
   ]
  },
  {
   "cell_type": "code",
   "execution_count": null,
   "id": "a1f5a34b",
   "metadata": {},
   "outputs": [],
   "source": []
  },
  {
   "cell_type": "markdown",
   "id": "8c1fdeb2",
   "metadata": {},
   "source": [
    "* What are the data types?"
   ]
  },
  {
   "cell_type": "code",
   "execution_count": null,
   "id": "51ab96a4",
   "metadata": {},
   "outputs": [],
   "source": []
  },
  {
   "cell_type": "markdown",
   "id": "a28ec192",
   "metadata": {},
   "source": [
    "* Summarize the dataframe with .info and .describe"
   ]
  },
  {
   "cell_type": "code",
   "execution_count": null,
   "id": "51265f85",
   "metadata": {},
   "outputs": [],
   "source": []
  },
  {
   "cell_type": "markdown",
   "id": "3c3bee5f",
   "metadata": {},
   "source": [
    "* What is the the weight of the fastest animal?"
   ]
  },
  {
   "cell_type": "code",
   "execution_count": null,
   "id": "1c17a513",
   "metadata": {},
   "outputs": [],
   "source": []
  },
  {
   "cell_type": "markdown",
   "id": "c173828f",
   "metadata": {},
   "source": [
    "* What is the overal percentage of specials?"
   ]
  },
  {
   "cell_type": "code",
   "execution_count": null,
   "id": "2c809a2f",
   "metadata": {},
   "outputs": [],
   "source": []
  },
  {
   "cell_type": "markdown",
   "id": "4ad5088d",
   "metadata": {},
   "source": [
    "* How many animals are hoppers that are above the median speed? What percentage is this?"
   ]
  },
  {
   "cell_type": "code",
   "execution_count": null,
   "id": "670f3ac9",
   "metadata": {},
   "outputs": [],
   "source": []
  },
  {
   "cell_type": "markdown",
   "id": "c6d2ff12",
   "metadata": {},
   "source": [
    "### Awesome Bonus\n",
    "For much more practice with pandas, Go to https://github.com/guipsamora/pandas_exercises and clone the repo down to your laptop. To clone a repository: - Copy the SSH address of the repository - cd ~/codeup-data-science - Then type git clone git@github.com:guipsamora/pandas_exercises.git - Now do cd pandas_exercises on your terminal. - Type git remote remove origin, so you won't accidentally try to push your work to guipsamora's repo.\n",
    "\n",
    "Congratulations! You have cloned guipsamora's pandas exercises to your computer. Now you need to make a new, blank, repository on GitHub.\n",
    "\n",
    "Go to https://github.com/new to make a new repo. Name it pandas_exercises.\n",
    "DO NOT check any check boxes. We need a blank, empty repo.\n",
    "Finally, follow the directions to \"push an existing repository from the command line\" so that you can push up your changes to your own account.\n",
    "Now do your own work, add it, commit it, and push it!"
   ]
  },
  {
   "cell_type": "code",
   "execution_count": null,
   "id": "dba5cc8c",
   "metadata": {},
   "outputs": [],
   "source": []
  }
 ],
 "metadata": {
  "kernelspec": {
   "display_name": "Python 3 (ipykernel)",
   "language": "python",
   "name": "python3"
  },
  "language_info": {
   "codemirror_mode": {
    "name": "ipython",
    "version": 3
   },
   "file_extension": ".py",
   "mimetype": "text/x-python",
   "name": "python",
   "nbconvert_exporter": "python",
   "pygments_lexer": "ipython3",
   "version": "3.9.12"
  }
 },
 "nbformat": 4,
 "nbformat_minor": 5
}
