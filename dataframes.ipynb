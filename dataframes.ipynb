{
 "cells": [
  {
   "cell_type": "markdown",
   "id": "2657f2f6",
   "metadata": {},
   "source": [
    "### Dataframes Exercises\n",
    "\n",
    "Do your work for this exercise in a python script or a jupyter notebook with the name dataframes.py or dataframes.ipynb.\n",
    "\n",
    "For several of the following exercises, you'll need to load several datasets using the pydataset library. (If you get an error when trying to run the import below, use pip to install the pydataset package.)\n",
    "\n",
    "```python\n",
    "from pydataset import data\n",
    "```\n",
    "\n",
    "When the instructions say to load a dataset, you can pass the name of the dataset as a string to the data function to load the dataset. You can also view the documentation for the data set by passing the show_doc keyword argument.\n",
    "\n",
    "```python\n",
    "# data('mpg', show_doc=True) # view the documentation for the dataset\n",
    "mpg = data('mpg') # load the dataset and store it in a variable\n",
    "```\n",
    "\n",
    "All the datasets loaded from the pydataset library will be pandas dataframes.\n",
    "\n",
    "1. Copy the code from the lesson to create a dataframe full of student grades.\n",
    "\n",
    "a. Create a column named passing_english that indicates whether each student has a passing grade in english.\n",
    "\n",
    "b. Sort the english grades by the passing_english column. How are duplicates handled?\n",
    "\n",
    "c. Sort the english grades first by passing_english and then by student name. All the students that are failing english should be first, and within the students that are failing english they should be ordered alphabetically. The same should be true for the students passing english. (Hint: you can pass a list to the .sort_values method)\n",
    "\n",
    "d. Sort the english grades first by passing_english, and then by the actual english grade, similar to how we did in the last step.\n",
    "\n",
    "e. Calculate each students overall grade and add it as a column on the dataframe. The overall grade is the average of the math, english, and reading grades.\n",
    "\n",
    "2. Load the mpg dataset. Read the documentation for the dataset and use it for the following questions:\n",
    "\n",
    "* How many rows and columns are there?\n",
    "* What are the data types of each column?\n",
    "* Summarize the dataframe with .info and .describe\n",
    "* Rename the cty column to city.\n",
    "* Rename the hwy column to highway.\n",
    "* Do any cars have better city mileage than highway mileage?\n",
    "* Create a column named mileage_difference this column should contain the difference between highway and city mileage for each car.\n",
    "* Which car (or cars) has the highest mileage difference?\n",
    "* Which compact class car has the lowest highway mileage? The best?\n",
    "* Create a column named average_mileage that is the mean of the city and highway mileage.\n",
    "* Which dodge car has the best average mileage? The worst?\n",
    "\n",
    "3. Load the Mammals dataset. Read the documentation for it, and use the data to answer these questions:\n",
    "\n",
    "* How many rows and columns are there?\n",
    "* What are the data types?\n",
    "* Summarize the dataframe with .info and .describe\n",
    "* What is the the weight of the fastest animal?\n",
    "* What is the overal percentage of specials?\n",
    "* How many animals are hoppers that are above the median speed? What percentage is this?"
   ]
  },
  {
   "cell_type": "code",
   "execution_count": null,
   "id": "30b5e6ba",
   "metadata": {},
   "outputs": [],
   "source": []
  },
  {
   "cell_type": "markdown",
   "id": "99b14787",
   "metadata": {},
   "source": [
    "### Awesome Bonus\n",
    "For much more practice with pandas, Go to https://github.com/guipsamora/pandas_exercises and clone the repo down to your laptop. To clone a repository: - Copy the SSH address of the repository - cd ~/codeup-data-science - Then type git clone git@github.com:guipsamora/pandas_exercises.git - Now do cd pandas_exercises on your terminal. - Type git remote remove origin, so you won't accidentally try to push your work to guipsamora's repo.\n",
    "\n",
    "Congratulations! You have cloned guipsamora's pandas exercises to your computer. Now you need to make a new, blank, repository on GitHub.\n",
    "\n",
    "Go to https://github.com/new to make a new repo. Name it pandas_exercises.\n",
    "DO NOT check any check boxes. We need a blank, empty repo.\n",
    "Finally, follow the directions to \"push an existing repository from the command line\" so that you can push up your changes to your own account.\n",
    "Now do your own work, add it, commit it, and push it!"
   ]
  },
  {
   "cell_type": "code",
   "execution_count": null,
   "id": "8026f7c7",
   "metadata": {},
   "outputs": [],
   "source": []
  }
 ],
 "metadata": {
  "kernelspec": {
   "display_name": "Python 3 (ipykernel)",
   "language": "python",
   "name": "python3"
  },
  "language_info": {
   "codemirror_mode": {
    "name": "ipython",
    "version": 3
   },
   "file_extension": ".py",
   "mimetype": "text/x-python",
   "name": "python",
   "nbconvert_exporter": "python",
   "pygments_lexer": "ipython3",
   "version": "3.9.12"
  }
 },
 "nbformat": 4,
 "nbformat_minor": 5
}
