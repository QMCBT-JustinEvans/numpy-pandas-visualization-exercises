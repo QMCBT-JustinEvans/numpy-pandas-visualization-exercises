{
 "cells": [
  {
   "cell_type": "code",
   "execution_count": 2,
   "id": "178da666",
   "metadata": {},
   "outputs": [],
   "source": [
    "import pandas as pd"
   ]
  },
  {
   "cell_type": "markdown",
   "id": "092bff3a",
   "metadata": {},
   "source": [
    "### Method 1"
   ]
  },
  {
   "cell_type": "code",
   "execution_count": 4,
   "id": "b2f6a50f",
   "metadata": {},
   "outputs": [
    {
     "data": {
      "text/html": [
       "<div>\n",
       "<style scoped>\n",
       "    .dataframe tbody tr th:only-of-type {\n",
       "        vertical-align: middle;\n",
       "    }\n",
       "\n",
       "    .dataframe tbody tr th {\n",
       "        vertical-align: top;\n",
       "    }\n",
       "\n",
       "    .dataframe thead th {\n",
       "        text-align: right;\n",
       "    }\n",
       "</style>\n",
       "<table border=\"1\" class=\"dataframe\">\n",
       "  <thead>\n",
       "    <tr style=\"text-align: right;\">\n",
       "      <th></th>\n",
       "      <th>L</th>\n",
       "    </tr>\n",
       "  </thead>\n",
       "  <tbody>\n",
       "    <tr>\n",
       "      <th>W</th>\n",
       "      <td>NaN</td>\n",
       "    </tr>\n",
       "  </tbody>\n",
       "</table>\n",
       "</div>"
      ],
      "text/plain": [
       "     L\n",
       "W  NaN"
      ]
     },
     "execution_count": 4,
     "metadata": {},
     "output_type": "execute_result"
    }
   ],
   "source": [
    "Team = ['LAC', 'LAL', 'UTA', 'PHX', 'GSW', 'POR', 'MEM', 'SAS', 'DAL', 'DEN', 'OKC', 'NOR', 'SAC', 'HOU', 'MIN']\n",
    "W = [40, 35, 45, 41, 29, 32, 29, 28, 30, 37, 20, 25, 23, 15, 15]\n",
    "L = [19, 23, 15, 16, 29, 24, 27, 28, 26, 20, 38, 32, 34, 43, 43]\n",
    "nba_df = pd.DataFrame({'Team': Team}, {'W': W}, {'L': L})\n",
    "nba_df"
   ]
  },
  {
   "cell_type": "markdown",
   "id": "d0864a6f",
   "metadata": {},
   "source": [
    "### Method 2"
   ]
  },
  {
   "cell_type": "code",
   "execution_count": 5,
   "id": "fe37643c",
   "metadata": {},
   "outputs": [],
   "source": [
    "lac = ['LAC', 40, 19]\n",
    "lal = ['LAL', 35, 23]\n",
    "uta = ['UTA', 45, 15]\n",
    "phx = ['PHX', 41, 16]\n",
    "gsw = ['GSW', 29, 29]\n",
    "por = ['POR', 32, 24]\n",
    "mem = ['MEM', 29, 27]\n",
    "sas = ['SAS', 28, 28]\n",
    "dal = ['DAL', 30, 26]\n",
    "den = ['DEN', 37, 20]\n",
    "okc = ['OKC', 20, 38]\n",
    "nor = ['NOR', 25, 32]\n",
    "sac = ['SAC', 23, 34]\n",
    "hou = ['HOU', 15, 43]\n",
    "minn = ['MIN',15, 43]"
   ]
  },
  {
   "cell_type": "code",
   "execution_count": null,
   "id": "4c5b90f9",
   "metadata": {},
   "outputs": [],
   "source": [
    "# nba_df2 = pd.DataFrame({'Team': Team}, {'W': W}, {'L': L})"
   ]
  },
  {
   "cell_type": "markdown",
   "id": "a832514a",
   "metadata": {},
   "source": [
    "### Method 3"
   ]
  },
  {
   "cell_type": "code",
   "execution_count": 6,
   "id": "1f25b18e",
   "metadata": {},
   "outputs": [],
   "source": [
    "from pydataset import data\n",
    "color_df = data('HairEyeColor')"
   ]
  },
  {
   "cell_type": "code",
   "execution_count": 7,
   "id": "48695874",
   "metadata": {},
   "outputs": [
    {
     "data": {
      "text/html": [
       "<div>\n",
       "<style scoped>\n",
       "    .dataframe tbody tr th:only-of-type {\n",
       "        vertical-align: middle;\n",
       "    }\n",
       "\n",
       "    .dataframe tbody tr th {\n",
       "        vertical-align: top;\n",
       "    }\n",
       "\n",
       "    .dataframe thead th {\n",
       "        text-align: right;\n",
       "    }\n",
       "</style>\n",
       "<table border=\"1\" class=\"dataframe\">\n",
       "  <thead>\n",
       "    <tr style=\"text-align: right;\">\n",
       "      <th></th>\n",
       "      <th>Hair</th>\n",
       "      <th>Eye</th>\n",
       "      <th>Sex</th>\n",
       "      <th>Freq</th>\n",
       "    </tr>\n",
       "  </thead>\n",
       "  <tbody>\n",
       "    <tr>\n",
       "      <th>1</th>\n",
       "      <td>Black</td>\n",
       "      <td>Brown</td>\n",
       "      <td>Male</td>\n",
       "      <td>32</td>\n",
       "    </tr>\n",
       "    <tr>\n",
       "      <th>2</th>\n",
       "      <td>Brown</td>\n",
       "      <td>Brown</td>\n",
       "      <td>Male</td>\n",
       "      <td>53</td>\n",
       "    </tr>\n",
       "    <tr>\n",
       "      <th>3</th>\n",
       "      <td>Red</td>\n",
       "      <td>Brown</td>\n",
       "      <td>Male</td>\n",
       "      <td>10</td>\n",
       "    </tr>\n",
       "    <tr>\n",
       "      <th>4</th>\n",
       "      <td>Blond</td>\n",
       "      <td>Brown</td>\n",
       "      <td>Male</td>\n",
       "      <td>3</td>\n",
       "    </tr>\n",
       "    <tr>\n",
       "      <th>5</th>\n",
       "      <td>Black</td>\n",
       "      <td>Blue</td>\n",
       "      <td>Male</td>\n",
       "      <td>11</td>\n",
       "    </tr>\n",
       "  </tbody>\n",
       "</table>\n",
       "</div>"
      ],
      "text/plain": [
       "    Hair    Eye   Sex  Freq\n",
       "1  Black  Brown  Male    32\n",
       "2  Brown  Brown  Male    53\n",
       "3    Red  Brown  Male    10\n",
       "4  Blond  Brown  Male     3\n",
       "5  Black   Blue  Male    11"
      ]
     },
     "execution_count": 7,
     "metadata": {},
     "output_type": "execute_result"
    }
   ],
   "source": [
    "color_df.head()"
   ]
  },
  {
   "cell_type": "markdown",
   "id": "28b87bc0",
   "metadata": {},
   "source": [
    "### df from Excel"
   ]
  },
  {
   "cell_type": "code",
   "execution_count": null,
   "id": "03de8f56",
   "metadata": {},
   "outputs": [],
   "source": [
    "# my_df = pd.read_excel('my_excel_file')"
   ]
  },
  {
   "cell_type": "code",
   "execution_count": 10,
   "id": "4f76fab0",
   "metadata": {},
   "outputs": [
    {
     "name": "stdout",
     "output_type": "stream",
     "text": [
      "Object `pd.read_excel()` not found.\n"
     ]
    }
   ],
   "source": [
    "pd.read_excel() # Shift Tab - Shift Tab will bring up documentation"
   ]
  },
  {
   "cell_type": "markdown",
   "id": "f0343e3a",
   "metadata": {},
   "source": [
    "### Object Types"
   ]
  },
  {
   "cell_type": "code",
   "execution_count": null,
   "id": "c8305d97",
   "metadata": {},
   "outputs": [],
   "source": []
  }
 ],
 "metadata": {
  "kernelspec": {
   "display_name": "Python 3 (ipykernel)",
   "language": "python",
   "name": "python3"
  },
  "language_info": {
   "codemirror_mode": {
    "name": "ipython",
    "version": 3
   },
   "file_extension": ".py",
   "mimetype": "text/x-python",
   "name": "python",
   "nbconvert_exporter": "python",
   "pygments_lexer": "ipython3",
   "version": "3.9.12"
  }
 },
 "nbformat": 4,
 "nbformat_minor": 5
}
