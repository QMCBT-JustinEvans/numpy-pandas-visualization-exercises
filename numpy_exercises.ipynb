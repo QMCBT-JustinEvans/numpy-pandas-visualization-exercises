{
 "cells": [
  {
   "cell_type": "markdown",
   "id": "5905fe7c",
   "metadata": {},
   "source": [
    "### Numpy Exercises\n",
    "\n",
    "In your numpy-pandas-visualization-exercises repo, create a file named numpy_exercises.py for this exercise.\n",
    "\n",
    "Use the following code for the questions below:"
   ]
  },
  {
   "cell_type": "code",
   "execution_count": 12,
   "id": "fcc3051e",
   "metadata": {},
   "outputs": [],
   "source": [
    "import numpy as np\n",
    "\n",
    "a = np.array([4, 10, 12, 23, -2, -1, 0, 0, 0, -6, 3, -7])"
   ]
  },
  {
   "cell_type": "markdown",
   "id": "657bbb6a",
   "metadata": {},
   "source": [
    "1. How many negative numbers are there?"
   ]
  },
  {
   "cell_type": "code",
   "execution_count": 2,
   "id": "45461639",
   "metadata": {},
   "outputs": [
    {
     "name": "stdout",
     "output_type": "stream",
     "text": [
      "[-2 -1 -6 -7]\n"
     ]
    },
    {
     "data": {
      "text/plain": [
       "4"
      ]
     },
     "execution_count": 2,
     "metadata": {},
     "output_type": "execute_result"
    }
   ],
   "source": [
    "print(a[a < 0])\n",
    "a[a < 0].size"
   ]
  },
  {
   "cell_type": "markdown",
   "id": "1231e456",
   "metadata": {},
   "source": [
    "2. How many positive numbers are there?"
   ]
  },
  {
   "cell_type": "code",
   "execution_count": 3,
   "id": "82dc9382",
   "metadata": {},
   "outputs": [
    {
     "name": "stdout",
     "output_type": "stream",
     "text": [
      "[ 4 10 12 23  3]\n"
     ]
    },
    {
     "data": {
      "text/plain": [
       "5"
      ]
     },
     "execution_count": 3,
     "metadata": {},
     "output_type": "execute_result"
    }
   ],
   "source": [
    "print(a[a > 0])\n",
    "a[a > 0].size"
   ]
  },
  {
   "cell_type": "markdown",
   "id": "d742ddf6",
   "metadata": {},
   "source": [
    "3. How many even positive numbers are there?"
   ]
  },
  {
   "cell_type": "code",
   "execution_count": 4,
   "id": "8bf03b88",
   "metadata": {},
   "outputs": [
    {
     "name": "stdout",
     "output_type": "stream",
     "text": [
      "[ 4 10 12]\n"
     ]
    },
    {
     "data": {
      "text/plain": [
       "3"
      ]
     },
     "execution_count": 4,
     "metadata": {},
     "output_type": "execute_result"
    }
   ],
   "source": [
    "a_even = a[a % 2 == 0]\n",
    "print(a_even[a_even > 0])\n",
    "a_even[a_even > 0].size"
   ]
  },
  {
   "cell_type": "markdown",
   "id": "d9c49fc3",
   "metadata": {},
   "source": [
    "4. If you were to add 3 to each data point, how many positive numbers would there be?"
   ]
  },
  {
   "cell_type": "code",
   "execution_count": 5,
   "id": "33b46259",
   "metadata": {},
   "outputs": [
    {
     "name": "stdout",
     "output_type": "stream",
     "text": [
      "[ 7 13 15 26  1  2  3  3  3  6]\n"
     ]
    },
    {
     "data": {
      "text/plain": [
       "10"
      ]
     },
     "execution_count": 5,
     "metadata": {},
     "output_type": "execute_result"
    }
   ],
   "source": [
    "add_three = a + 3\n",
    "print(add_three[add_three >0])\n",
    "add_three[add_three >0].size"
   ]
  },
  {
   "cell_type": "markdown",
   "id": "17a9852f",
   "metadata": {},
   "source": [
    "5. If you squared each number, what would the new mean and standard deviation be?"
   ]
  },
  {
   "cell_type": "code",
   "execution_count": 6,
   "id": "3e2365e8",
   "metadata": {},
   "outputs": [
    {
     "name": "stdout",
     "output_type": "stream",
     "text": [
      "[ 4 10 12 23 -2 -1  0  0  0 -6  3 -7]\n",
      "[ 16 100 144 529   4   1   0   0   0  36   9  49]\n",
      "\n",
      "The mean of the array squared is: 74.0\n",
      "The standard deviation of the array squared is: 144.0243035046516\n"
     ]
    }
   ],
   "source": [
    "a_sq = a ** 2\n",
    "print(a)\n",
    "print(a_sq)\n",
    "print()\n",
    "print(f'The mean of the array squared is: {a_sq.mean()}')\n",
    "print(f'The standard deviation of the array squared is: {a_sq.std()}')"
   ]
  },
  {
   "cell_type": "markdown",
   "id": "be03052e",
   "metadata": {},
   "source": [
    "6. A common statistical operation on a dataset is centering. This means to adjust the data such that the mean of the data is 0. This is done by subtracting the mean from each data point. Center the data set. See this link (https://ds.codeup.com/python/intro-to-numpy/#:~:text=data%20set.%20See-,this%20link,-for%20more%20on) for more on centering."
   ]
  },
  {
   "cell_type": "code",
   "execution_count": 7,
   "id": "99a20a72",
   "metadata": {},
   "outputs": [
    {
     "data": {
      "text/plain": [
       "array([  1.,   7.,   9.,  20.,  -5.,  -4.,  -3.,  -3.,  -3.,  -9.,   0.,\n",
       "       -10.])"
      ]
     },
     "execution_count": 7,
     "metadata": {},
     "output_type": "execute_result"
    }
   ],
   "source": [
    "mean = a.mean()\n",
    "center = a - mean\n",
    "center"
   ]
  },
  {
   "cell_type": "markdown",
   "id": "59aab61a",
   "metadata": {},
   "source": [
    "7. Calculate the z-score for each data point. Recall that the z-score is given by:\n",
    "\n",
    "    Z = x-μ / σ  \n",
    "    where: \n",
    "X is a single raw data value\n",
    "μ is the population mean\n",
    "σ is the population standard deviation"
   ]
  },
  {
   "cell_type": "code",
   "execution_count": 8,
   "id": "5c567429",
   "metadata": {},
   "outputs": [
    {
     "data": {
      "text/plain": [
       "array([ 0.12403473,  0.86824314,  1.11631261,  2.48069469, -0.62017367,\n",
       "       -0.49613894, -0.3721042 , -0.3721042 , -0.3721042 , -1.11631261,\n",
       "        0.        , -1.24034735])"
      ]
     },
     "execution_count": 8,
     "metadata": {},
     "output_type": "execute_result"
    }
   ],
   "source": [
    "import scipy.stats as stats\n",
    "\n",
    "stats.zscore(a)"
   ]
  },
  {
   "cell_type": "code",
   "execution_count": 10,
   "id": "340df111",
   "metadata": {},
   "outputs": [
    {
     "data": {
      "text/plain": [
       "array([ 0.12403473,  0.86824314,  1.11631261,  2.48069469, -0.62017367,\n",
       "       -0.49613894, -0.3721042 , -0.3721042 , -0.3721042 , -1.11631261,\n",
       "        0.        , -1.24034735])"
      ]
     },
     "execution_count": 10,
     "metadata": {},
     "output_type": "execute_result"
    }
   ],
   "source": [
    "std = a.std()\n",
    "z_score = (a-mean)/std\n",
    "z_score"
   ]
  },
  {
   "cell_type": "markdown",
   "id": "ed47b278",
   "metadata": {},
   "source": [
    "8. Copy the setup and exercise directions from More Numpy Practice (https://gist.github.com/ryanorsinger/c4cf5a64ec33c014ff2e56951bc8a42d) into your numpy_exercises.py and add your solutions."
   ]
  },
  {
   "cell_type": "markdown",
   "id": "daed2403",
   "metadata": {},
   "source": [
    "## Setup 1"
   ]
  },
  {
   "cell_type": "code",
   "execution_count": 20,
   "id": "d91db703",
   "metadata": {},
   "outputs": [],
   "source": [
    "a2 = [1, 2, 3, 4, 5, 6, 7, 8, 9, 10]"
   ]
  },
  {
   "cell_type": "code",
   "execution_count": 21,
   "id": "ca29e5e2",
   "metadata": {},
   "outputs": [
    {
     "data": {
      "text/plain": [
       "list"
      ]
     },
     "execution_count": 21,
     "metadata": {},
     "output_type": "execute_result"
    }
   ],
   "source": [
    "type(a2)"
   ]
  },
  {
   "cell_type": "markdown",
   "id": "aa7ec0d7",
   "metadata": {},
   "source": [
    " ### Use python's built in functionality/operators to determine the following:\n",
    " Exercise 1 - Make a variable called sum_of_a to hold the sum of all the numbers in above list"
   ]
  },
  {
   "cell_type": "code",
   "execution_count": 23,
   "id": "075510ea",
   "metadata": {},
   "outputs": [
    {
     "data": {
      "text/plain": [
       "55"
      ]
     },
     "execution_count": 23,
     "metadata": {},
     "output_type": "execute_result"
    }
   ],
   "source": [
    "sum_of_a2 = sum(a2)\n",
    "sum_of_a2"
   ]
  },
  {
   "cell_type": "markdown",
   "id": "779128f1",
   "metadata": {},
   "source": [
    "Exercise 2 - Make a variable named min_of_a to hold the minimum of all the numbers in the above list"
   ]
  },
  {
   "cell_type": "code",
   "execution_count": 26,
   "id": "abc80491",
   "metadata": {},
   "outputs": [
    {
     "data": {
      "text/plain": [
       "1"
      ]
     },
     "execution_count": 26,
     "metadata": {},
     "output_type": "execute_result"
    }
   ],
   "source": [
    "min_of_a2 = min(a2)\n",
    "min_of_a2"
   ]
  },
  {
   "cell_type": "markdown",
   "id": "04114a28",
   "metadata": {},
   "source": [
    "Exercise 3 - Make a variable named max_of_a to hold the max number of all the numbers in the above list"
   ]
  },
  {
   "cell_type": "code",
   "execution_count": 27,
   "id": "6f472d3a",
   "metadata": {},
   "outputs": [
    {
     "data": {
      "text/plain": [
       "10"
      ]
     },
     "execution_count": 27,
     "metadata": {},
     "output_type": "execute_result"
    }
   ],
   "source": [
    "max_of_a2 = max(a2)\n",
    "max_of_a2"
   ]
  },
  {
   "cell_type": "markdown",
   "id": "12db2c72",
   "metadata": {},
   "source": [
    "Exercise 4 - Make a variable named mean_of_a to hold the average of all the numbers in the above list"
   ]
  },
  {
   "cell_type": "code",
   "execution_count": 35,
   "id": "3a171e3c",
   "metadata": {},
   "outputs": [
    {
     "data": {
      "text/plain": [
       "5.5"
      ]
     },
     "execution_count": 35,
     "metadata": {},
     "output_type": "execute_result"
    }
   ],
   "source": [
    "import statistics\n",
    "mean_of_a2 = statistics.mean(a2)\n",
    "mean_of_a2"
   ]
  },
  {
   "cell_type": "markdown",
   "id": "7ec7c8b6",
   "metadata": {},
   "source": [
    "Exercise 5 - Make a variable named product_of_a to hold the product of multiplying all the numbers in the above list together"
   ]
  },
  {
   "cell_type": "code",
   "execution_count": 40,
   "id": "d0c3a2fd",
   "metadata": {},
   "outputs": [
    {
     "data": {
      "text/plain": [
       "3628800"
      ]
     },
     "execution_count": 40,
     "metadata": {},
     "output_type": "execute_result"
    }
   ],
   "source": [
    "array_a2 = np.array([1, 2, 3, 4, 5, 6, 7, 8, 9, 10])\n",
    "product_of_a2 = array_a2.prod()\n",
    "product_of_a2"
   ]
  },
  {
   "cell_type": "markdown",
   "id": "109dc125",
   "metadata": {},
   "source": [
    "Exercise 6 - Make a variable named squares_of_a. It should hold each number in a squared like [1, 4, 9, 16, 25...]"
   ]
  },
  {
   "cell_type": "code",
   "execution_count": 44,
   "id": "241612d3",
   "metadata": {},
   "outputs": [
    {
     "data": {
      "text/plain": [
       "array([  1,   4,   9,  16,  25,  36,  49,  64,  81, 100])"
      ]
     },
     "execution_count": 44,
     "metadata": {},
     "output_type": "execute_result"
    }
   ],
   "source": [
    "squares_of_a2 = array_a2 ** 2\n",
    "squares_of_a2"
   ]
  },
  {
   "cell_type": "markdown",
   "id": "c24ef866",
   "metadata": {},
   "source": [
    "Exercise 7 - Make a variable named odds_in_a. It should hold only the odd numbers"
   ]
  },
  {
   "cell_type": "code",
   "execution_count": 53,
   "id": "6805ce64",
   "metadata": {},
   "outputs": [
    {
     "name": "stdout",
     "output_type": "stream",
     "text": [
      "[ 1  2  3  4  5  6  7  8  9 10]\n",
      "[ True False  True False  True False  True False  True False]\n",
      "[1 3 5 7 9]\n"
     ]
    }
   ],
   "source": [
    "odds_in_a2 = array_a2 % 2 == 1\n",
    "print(array_a2)\n",
    "print(odds_in_a2)\n",
    "print(array_a2[odds_in_a2])"
   ]
  },
  {
   "cell_type": "markdown",
   "id": "77f3596c",
   "metadata": {},
   "source": [
    "Exercise 8 - Make a variable named evens_in_a. It should hold only the evens."
   ]
  },
  {
   "cell_type": "code",
   "execution_count": 55,
   "id": "ab56b527",
   "metadata": {},
   "outputs": [
    {
     "name": "stdout",
     "output_type": "stream",
     "text": [
      "[ 2  4  6  8 10]\n"
     ]
    }
   ],
   "source": [
    "evens_in_a2 = array_a2 % 2 == 0\n",
    "print(array_a2[evens_in_a2])"
   ]
  },
  {
   "cell_type": "markdown",
   "id": "28d50f08",
   "metadata": {},
   "source": [
    "## What about life in two dimensions? A list of lists is matrix, a table, a spreadsheet, a chessboard...\n",
    "\n",
    "## Setup 2: Consider what it would take to find the sum, min, max, average, sum, product, and list of squares for this list of two lists."
   ]
  },
  {
   "cell_type": "code",
   "execution_count": 57,
   "id": "1b68d610",
   "metadata": {},
   "outputs": [
    {
     "data": {
      "text/plain": [
       "[[3, 4, 5], [6, 7, 8]]"
      ]
     },
     "execution_count": 57,
     "metadata": {},
     "output_type": "execute_result"
    }
   ],
   "source": [
    "b = [\n",
    "    [3, 4, 5],\n",
    "    [6, 7, 8]\n",
    "]\n",
    "\n",
    "b"
   ]
  },
  {
   "cell_type": "markdown",
   "id": "e692d186",
   "metadata": {},
   "source": [
    "Exercise 1 - refactor the following to use numpy. Use sum_of_b as the variable.\n",
    "```python\n",
    "sum_of_b = 0 for row in b: sum_of_b += sum(row)\n",
    "```\n",
    "\n",
    "**Hint, you'll first need to make sure that the \"b\" variable is a numpy array**"
   ]
  },
  {
   "cell_type": "code",
   "execution_count": 67,
   "id": "73922f78",
   "metadata": {},
   "outputs": [
    {
     "data": {
      "text/plain": [
       "33"
      ]
     },
     "execution_count": 67,
     "metadata": {},
     "output_type": "execute_result"
    }
   ],
   "source": [
    "b = np.array(b)\n",
    "\n",
    "sum_of_b = b.sum()\n",
    "sum_of_b"
   ]
  },
  {
   "cell_type": "markdown",
   "id": "c8392768",
   "metadata": {},
   "source": [
    "Exercise 2 - refactor the following to use numpy.\n",
    "```python\n",
    "min_of_b = min(b[0]) if min(b[0]) <= min(b[1]) else min(b[1])  \n",
    "```"
   ]
  },
  {
   "cell_type": "code",
   "execution_count": 64,
   "id": "17ae6f9a",
   "metadata": {},
   "outputs": [
    {
     "data": {
      "text/plain": [
       "3"
      ]
     },
     "execution_count": 64,
     "metadata": {},
     "output_type": "execute_result"
    }
   ],
   "source": [
    "min_of_b = b.min()\n",
    "min_of_b"
   ]
  },
  {
   "cell_type": "markdown",
   "id": "95a2b907",
   "metadata": {},
   "source": [
    "Exercise 3 - refactor the following maximum calculation to find the answer with numpy.\n",
    "```python\n",
    "max_of_b = max(b[0]) if max(b[0]) >= max(b[1]) else max(b[1])\n",
    "```"
   ]
  },
  {
   "cell_type": "code",
   "execution_count": 65,
   "id": "4ec7058f",
   "metadata": {},
   "outputs": [
    {
     "data": {
      "text/plain": [
       "8"
      ]
     },
     "execution_count": 65,
     "metadata": {},
     "output_type": "execute_result"
    }
   ],
   "source": [
    "max_of_b = b.max()\n",
    "max_of_b"
   ]
  },
  {
   "cell_type": "markdown",
   "id": "979d881e",
   "metadata": {},
   "source": [
    "Exercise 4 - refactor the following using numpy to find the mean of b\n",
    "```python\n",
    "mean_of_b = (sum(b[0]) + sum(b[1])) / (len(b[0]) + len(b[1]))\n",
    "```"
   ]
  },
  {
   "cell_type": "code",
   "execution_count": 66,
   "id": "9643a950",
   "metadata": {},
   "outputs": [
    {
     "data": {
      "text/plain": [
       "5.5"
      ]
     },
     "execution_count": 66,
     "metadata": {},
     "output_type": "execute_result"
    }
   ],
   "source": [
    "mean_of_b = b.mean()\n",
    "mean_of_b"
   ]
  },
  {
   "cell_type": "markdown",
   "id": "3b999372",
   "metadata": {},
   "source": [
    "Exercise 5 - refactor the following to use numpy for calculating the product of all numbers multiplied together.\n",
    "```python\n",
    "product_of_b = 1 for row in b: for number in row: product_of_b *= number\n",
    "```"
   ]
  },
  {
   "cell_type": "code",
   "execution_count": 68,
   "id": "acc7d008",
   "metadata": {},
   "outputs": [
    {
     "data": {
      "text/plain": [
       "20160"
      ]
     },
     "execution_count": 68,
     "metadata": {},
     "output_type": "execute_result"
    }
   ],
   "source": [
    "product_of_b = b.prod()\n",
    "product_of_b"
   ]
  },
  {
   "cell_type": "markdown",
   "id": "f7228016",
   "metadata": {},
   "source": [
    "Exercise 6 - refactor the following to use numpy to find the list of squares \n",
    "```python\n",
    "squares_of_b = [] for row in b: for number in row: squares_of_b.append(number**2)\n",
    "```"
   ]
  },
  {
   "cell_type": "code",
   "execution_count": 69,
   "id": "00dce378",
   "metadata": {},
   "outputs": [
    {
     "data": {
      "text/plain": [
       "array([[ 9, 16, 25],\n",
       "       [36, 49, 64]])"
      ]
     },
     "execution_count": 69,
     "metadata": {},
     "output_type": "execute_result"
    }
   ],
   "source": [
    "squares_of_b = b ** 2\n",
    "squares_of_b"
   ]
  },
  {
   "cell_type": "markdown",
   "id": "bad72d6d",
   "metadata": {},
   "source": [
    "# Exercise 7 - refactor using numpy to determine the odds_in_b\n",
    "odds_in_b = []\n",
    "for row in b:\n",
    "    for number in row:\n",
    "        if(number % 2 != 0):\n",
    "            odds_in_b.append(number)\n",
    "\n",
    "\n",
    "# Exercise 8 - refactor the following to use numpy to filter only the even numbers\n",
    "evens_in_b = []\n",
    "for row in b:\n",
    "    for number in row:\n",
    "        if(number % 2 == 0):\n",
    "            evens_in_b.append(number)\n",
    "\n",
    "# Exercise 9 - print out the shape of the array b.\n",
    "\n",
    "# Exercise 10 - transpose the array b.\n",
    "\n",
    "# Exercise 11 - reshape the array b to be a single list of 6 numbers. (1 x 6)\n",
    "\n",
    "# Exercise 12 - reshape the array b to be a list of 6 lists, each containing only 1 number (6 x 1)\n",
    "\n",
    "## Setup 3\n",
    "c = [\n",
    "    [1, 2, 3],\n",
    "    [4, 5, 6],\n",
    "    [7, 8, 9]\n",
    "]\n",
    "\n",
    "# HINT, you'll first need to make sure that the \"c\" variable is a numpy array prior to using numpy array methods.\n",
    "# Exercise 1 - Find the min, max, sum, and product of c.\n",
    "\n",
    "# Exercise 2 - Determine the standard deviation of c.\n",
    "\n",
    "# Exercise 3 - Determine the variance of c.\n",
    "\n",
    "# Exercise 4 - Print out the shape of the array c\n",
    "\n",
    "# Exercise 5 - Transpose c and print out transposed result.\n",
    "\n",
    "# Exercise 6 - Get the dot product of the array c with c. \n",
    "\n",
    "# Exercise 7 - Write the code necessary to sum up the result of c times c transposed. Answer should be 261\n",
    "\n",
    "# Exercise 8 - Write the code necessary to determine the product of c times c transposed. Answer should be 131681894400.\n",
    "\n",
    "\n",
    "## Setup 4\n",
    "d = [\n",
    "    [90, 30, 45, 0, 120, 180],\n",
    "    [45, -90, -30, 270, 90, 0],\n",
    "    [60, 45, -45, 90, -45, 180]\n",
    "]\n",
    "\n",
    "# Exercise 1 - Find the sine of all the numbers in d\n",
    "\n",
    "# Exercise 2 - Find the cosine of all the numbers in d\n",
    "\n",
    "# Exercise 3 - Find the tangent of all the numbers in d\n",
    "\n",
    "# Exercise 4 - Find all the negative numbers in d\n",
    "\n",
    "# Exercise 5 - Find all the positive numbers in d\n",
    "\n",
    "# Exercise 6 - Return an array of only the unique numbers in d.\n",
    "\n",
    "# Exercise 7 - Determine how many unique numbers there are in d.\n",
    "\n",
    "# Exercise 8 - Print out the shape of d.\n",
    "\n",
    "# Exercise 9 - Transpose and then print out the shape of d.\n",
    "\n",
    "# Exercise 10 - Reshape d into an array of 9 x 2"
   ]
  },
  {
   "cell_type": "markdown",
   "id": "4261a1f5",
   "metadata": {},
   "source": [
    "### Awesome Bonus \n",
    "For much more practice with numpy, Go to https://github.com/rougier/numpy-100 and clone the repo down to your laptop. To clone a repository: - Copy the SSH address of the repository - cd ~/codeup-data-science - Then type git clone git@github.com:rougier/numpy-100.git - Now do cd numpy-100 on your terminal. - Type git remote remove origin, so you won't accidentally try to push your work to Rougier's repo.\n",
    "\n",
    "Congratulations! You have cloned Rougier's 100 numpy exercises to your computer. Now you need to make a new, blank, repository on GitHub.\n",
    "\n",
    "Go to https://github.com/new to make a new repo. Name it numpy-100.\n",
    "DO NOT check any check boxes. We need a blank, empty repo.\n",
    "Finally, follow the directions to \"push an existing repository from the command line\" so that you can push up your changes to your own account.\n",
    "\n",
    "Now do work, add it, commit it, and push it!"
   ]
  }
 ],
 "metadata": {
  "kernelspec": {
   "display_name": "Python 3 (ipykernel)",
   "language": "python",
   "name": "python3"
  },
  "language_info": {
   "codemirror_mode": {
    "name": "ipython",
    "version": 3
   },
   "file_extension": ".py",
   "mimetype": "text/x-python",
   "name": "python",
   "nbconvert_exporter": "python",
   "pygments_lexer": "ipython3",
   "version": "3.9.12"
  }
 },
 "nbformat": 4,
 "nbformat_minor": 5
}
