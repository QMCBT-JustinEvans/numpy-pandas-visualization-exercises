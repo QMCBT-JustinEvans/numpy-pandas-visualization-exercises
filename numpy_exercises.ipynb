{
 "cells": [
  {
   "cell_type": "markdown",
   "id": "5905fe7c",
   "metadata": {},
   "source": [
    "### Numpy Exercises\n",
    "\n",
    "In your numpy-pandas-visualization-exercises repo, create a file named numpy_exercises.py for this exercise.\n",
    "\n",
    "Use the following code for the questions below:"
   ]
  },
  {
   "cell_type": "code",
   "execution_count": 2,
   "id": "fcc3051e",
   "metadata": {},
   "outputs": [],
   "source": [
    "import numpy as np\n",
    "\n",
    "a = np.array([4, 10, 12, 23, -2, -1, 0, 0, 0, -6, 3, -7])"
   ]
  },
  {
   "cell_type": "markdown",
   "id": "657bbb6a",
   "metadata": {},
   "source": [
    "1. How many negative numbers are there?"
   ]
  },
  {
   "cell_type": "code",
   "execution_count": 18,
   "id": "45461639",
   "metadata": {},
   "outputs": [
    {
     "name": "stdout",
     "output_type": "stream",
     "text": [
      "[-2 -1 -6 -7]\n"
     ]
    },
    {
     "data": {
      "text/plain": [
       "4"
      ]
     },
     "execution_count": 18,
     "metadata": {},
     "output_type": "execute_result"
    }
   ],
   "source": [
    "print(a[a < 0])\n",
    "a[a < 0].size"
   ]
  },
  {
   "cell_type": "markdown",
   "id": "1231e456",
   "metadata": {},
   "source": [
    "2. How many positive numbers are there?"
   ]
  },
  {
   "cell_type": "code",
   "execution_count": 17,
   "id": "82dc9382",
   "metadata": {},
   "outputs": [
    {
     "name": "stdout",
     "output_type": "stream",
     "text": [
      "[ 4 10 12 23  3]\n"
     ]
    },
    {
     "data": {
      "text/plain": [
       "5"
      ]
     },
     "execution_count": 17,
     "metadata": {},
     "output_type": "execute_result"
    }
   ],
   "source": [
    "print(a[a > 0])\n",
    "a[a > 0].size"
   ]
  },
  {
   "cell_type": "markdown",
   "id": "d742ddf6",
   "metadata": {},
   "source": [
    "3. How many even positive numbers are there?"
   ]
  },
  {
   "cell_type": "code",
   "execution_count": 75,
   "id": "8bf03b88",
   "metadata": {},
   "outputs": [
    {
     "name": "stdout",
     "output_type": "stream",
     "text": [
      "[ 4 10 12]\n"
     ]
    },
    {
     "data": {
      "text/plain": [
       "3"
      ]
     },
     "execution_count": 75,
     "metadata": {},
     "output_type": "execute_result"
    }
   ],
   "source": [
    "a_even = a[a % 2 == 0]\n",
    "print(a_even[a_even > 0])\n",
    "a_even[a_even > 0].size"
   ]
  },
  {
   "cell_type": "markdown",
   "id": "d9c49fc3",
   "metadata": {},
   "source": [
    "4. If you were to add 3 to each data point, how many positive numbers would there be?"
   ]
  },
  {
   "cell_type": "code",
   "execution_count": 69,
   "id": "33b46259",
   "metadata": {},
   "outputs": [
    {
     "name": "stdout",
     "output_type": "stream",
     "text": [
      "[ 7 13 15 26  1  2  3  3  3  6]\n"
     ]
    },
    {
     "data": {
      "text/plain": [
       "10"
      ]
     },
     "execution_count": 69,
     "metadata": {},
     "output_type": "execute_result"
    }
   ],
   "source": [
    "add_three = a + 3\n",
    "print(add_three[add_three >0])\n",
    "add_three[add_three >0].size"
   ]
  },
  {
   "cell_type": "markdown",
   "id": "17a9852f",
   "metadata": {},
   "source": [
    "5. If you squared each number, what would the new mean and standard deviation be?"
   ]
  },
  {
   "cell_type": "code",
   "execution_count": 86,
   "id": "3e2365e8",
   "metadata": {},
   "outputs": [
    {
     "name": "stdout",
     "output_type": "stream",
     "text": [
      "[ 4 10 12 23 -2 -1  0  0  0 -6  3 -7]\n",
      "[ 16 100 144 529   4   1   0   0   0  36   9  49]\n",
      "\n",
      "The mean of the array squared is: 74.0\n",
      "The standard deviation of the array squared is: 144.0243035046516\n"
     ]
    }
   ],
   "source": [
    "a_sq = a ** 2\n",
    "print(a)\n",
    "print(a_sq)\n",
    "print()\n",
    "print(f'The mean of the array squared is: {a_sq.mean()}')\n",
    "print(f'The standard deviation of the array squared is: {a_sq.std()}')"
   ]
  },
  {
   "cell_type": "markdown",
   "id": "be03052e",
   "metadata": {},
   "source": [
    "6. A common statistical operation on a dataset is centering. This means to adjust the data such that the mean of the data is 0. This is done by subtracting the mean from each data point. Center the data set. See this link (https://ds.codeup.com/python/intro-to-numpy/#:~:text=data%20set.%20See-,this%20link,-for%20more%20on) for more on centering."
   ]
  },
  {
   "cell_type": "code",
   "execution_count": 98,
   "id": "99a20a72",
   "metadata": {},
   "outputs": [
    {
     "data": {
      "text/plain": [
       "array([  1.,   7.,   9.,  20.,  -5.,  -4.,  -3.,  -3.,  -3.,  -9.,   0.,\n",
       "       -10.])"
      ]
     },
     "execution_count": 98,
     "metadata": {},
     "output_type": "execute_result"
    }
   ],
   "source": [
    "mean = a.mean()\n",
    "center = a - mean\n",
    "center"
   ]
  },
  {
   "cell_type": "markdown",
   "id": "59aab61a",
   "metadata": {},
   "source": [
    "7. Calculate the z-score for each data point. Recall that the z-score is given by:\n",
    "\n",
    "    Z = x-μ / σ"
   ]
  },
  {
   "cell_type": "code",
   "execution_count": null,
   "id": "5c567429",
   "metadata": {},
   "outputs": [],
   "source": []
  },
  {
   "cell_type": "markdown",
   "id": "ed47b278",
   "metadata": {},
   "source": [
    "8. Copy the setup and exercise directions from More Numpy Practice into your numpy_exercises.py and add your solutions."
   ]
  },
  {
   "cell_type": "code",
   "execution_count": null,
   "id": "343e9674",
   "metadata": {},
   "outputs": [],
   "source": []
  },
  {
   "cell_type": "markdown",
   "id": "4261a1f5",
   "metadata": {},
   "source": [
    "### Awesome Bonus \n",
    "For much more practice with numpy, Go to https://github.com/rougier/numpy-100 and clone the repo down to your laptop. To clone a repository: - Copy the SSH address of the repository - cd ~/codeup-data-science - Then type git clone git@github.com:rougier/numpy-100.git - Now do cd numpy-100 on your terminal. - Type git remote remove origin, so you won't accidentally try to push your work to Rougier's repo.\n",
    "\n",
    "Congratulations! You have cloned Rougier's 100 numpy exercises to your computer. Now you need to make a new, blank, repository on GitHub.\n",
    "\n",
    "Go to https://github.com/new to make a new repo. Name it numpy-100.\n",
    "DO NOT check any check boxes. We need a blank, empty repo.\n",
    "Finally, follow the directions to \"push an existing repository from the command line\" so that you can push up your changes to your own account.\n",
    "\n",
    "Now do work, add it, commit it, and push it!"
   ]
  }
 ],
 "metadata": {
  "kernelspec": {
   "display_name": "Python 3 (ipykernel)",
   "language": "python",
   "name": "python3"
  },
  "language_info": {
   "codemirror_mode": {
    "name": "ipython",
    "version": 3
   },
   "file_extension": ".py",
   "mimetype": "text/x-python",
   "name": "python",
   "nbconvert_exporter": "python",
   "pygments_lexer": "ipython3",
   "version": "3.9.12"
  }
 },
 "nbformat": 4,
 "nbformat_minor": 5
}
